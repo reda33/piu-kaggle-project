{
 "cells": [
  {
   "cell_type": "code",
   "execution_count": 3,
   "id": "nutritional-plenty",
   "metadata": {},
   "outputs": [],
   "source": [
    "#  Imports\n",
    "import pandas as pd\n",
    "from sklearn.model_selection import train_test_split\n",
    "from sklearn.ensemble import RandomForestClassifier\n",
    "from sklearn.metrics import cohen_kappa_score\n",
    "from sklearn.preprocessing import StandardScaler\n"
   ]
  },
  {
   "cell_type": "code",
   "execution_count": 13,
   "id": "sexual-message",
   "metadata": {},
   "outputs": [
    {
     "name": "stdout",
     "output_type": "stream",
     "text": [
      "Données chargées : (3960, 4) (3960,) (20, 4)\n"
     ]
    }
   ],
   "source": [
    "# 📥 Chargement des données pré-nettoyées\n",
    "train = pd.read_csv(\"../data/train.csv\")\n",
    "test = pd.read_csv(\"../data/test.csv\")\n",
    "X = pd.read_csv(\"../data/X_imputed.csv\")\n",
    "X_test = pd.read_csv(\"../data/X_test_imputed.csv\")\n",
    "y = pd.read_csv(\"../data/y.csv\").squeeze()  # pour transformer en Series\n",
    "\n",
    "print(\"Données chargées :\", X.shape, y.shape, X_test.shape)\n"
   ]
  },
  {
   "cell_type": "code",
   "execution_count": 9,
   "id": "animal-dating",
   "metadata": {},
   "outputs": [
    {
     "name": "stdout",
     "output_type": "stream",
     "text": [
      " Données prêtes après nettoyage :\n",
      "X : (2736, 4)\n",
      "y : (2736,)\n"
     ]
    }
   ],
   "source": [
    "# Supprimer les lignes où la cible est NaN\n",
    "combined = pd.concat([X, y], axis=1)\n",
    "combined_clean = combined.dropna(subset=[\"sii\"])\n",
    "\n",
    "# Re-séparer X et y après nettoyage\n",
    "X = combined_clean.drop(columns=[\"sii\"])\n",
    "y = combined_clean[\"sii\"]\n",
    "\n",
    "print(\" Données prêtes après nettoyage :\")\n",
    "print(\"X :\", X.shape)\n",
    "print(\"y :\", y.shape)\n",
    "\n"
   ]
  },
  {
   "cell_type": "code",
   "execution_count": 10,
   "id": "instructional-contributor",
   "metadata": {},
   "outputs": [
    {
     "name": "stdout",
     "output_type": "stream",
     "text": [
      "✅ Quadratic Weighted Kappa (QWK) : 0.3088\n"
     ]
    }
   ],
   "source": [
    "# Normalisation (optionnelle mais propre)\n",
    "scaler = StandardScaler()\n",
    "X_scaled = scaler.fit_transform(X)\n",
    "\n",
    "# Split train / validation\n",
    "X_train, X_val, y_train, y_val = train_test_split(\n",
    "    X_scaled, y, test_size=0.2, random_state=42, stratify=y\n",
    ")\n",
    "\n",
    "# Modèle de base\n",
    "model = RandomForestClassifier(n_estimators=100, random_state=42)\n",
    "model.fit(X_train, y_train)\n",
    "\n",
    "# Prédictions\n",
    "y_pred = model.predict(X_val)\n",
    "\n",
    "# Évaluation\n",
    "qwk = cohen_kappa_score(y_val, y_pred, weights='quadratic')\n",
    "print(f\"Quadratic Weighted Kappa (QWK) : {qwk:.4f}\")\n"
   ]
  },
  {
   "cell_type": "markdown",
   "id": "fourth-calgary",
   "metadata": {},
   "source": [
    "## Conclusion – Modèle de base\n",
    "\n",
    "On vient de construire notre premier modèle de classification simple avec un `RandomForestClassifier`.\n",
    "\n",
    "- On a utilisé uniquement **4 variables numériques** disponibles dans le train et le test.\n",
    "- Les valeurs manquantes ont été gérées proprement par imputation.\n",
    "- Après entraînement et validation, on a obtenu un **score Quadratic Weighted Kappa de 0.3088**.\n",
    "\n",
    "Ce modèle est notre **baseline** : il est simple mais déjà fonctionnel.  \n",
    "Il nous servira de point de comparaison pour toutes les futures améliorations.\n",
    "\n",
    "Prochaine étape : soit faire une première soumission Kaggle, soit améliorer notre modèle avec de nouvelles features ou un algorithme plus puissant.\n"
   ]
  },
  {
   "cell_type": "code",
   "execution_count": 14,
   "id": "further-underground",
   "metadata": {},
   "outputs": [
    {
     "name": "stdout",
     "output_type": "stream",
     "text": [
      "✅ Fichier de soumission généré !\n"
     ]
    },
    {
     "data": {
      "text/html": [
       "<div>\n",
       "<style scoped>\n",
       "    .dataframe tbody tr th:only-of-type {\n",
       "        vertical-align: middle;\n",
       "    }\n",
       "\n",
       "    .dataframe tbody tr th {\n",
       "        vertical-align: top;\n",
       "    }\n",
       "\n",
       "    .dataframe thead th {\n",
       "        text-align: right;\n",
       "    }\n",
       "</style>\n",
       "<table border=\"1\" class=\"dataframe\">\n",
       "  <thead>\n",
       "    <tr style=\"text-align: right;\">\n",
       "      <th></th>\n",
       "      <th>id</th>\n",
       "      <th>sii</th>\n",
       "    </tr>\n",
       "  </thead>\n",
       "  <tbody>\n",
       "    <tr>\n",
       "      <th>0</th>\n",
       "      <td>00008ff9</td>\n",
       "      <td>2.0</td>\n",
       "    </tr>\n",
       "    <tr>\n",
       "      <th>1</th>\n",
       "      <td>000fd460</td>\n",
       "      <td>0.0</td>\n",
       "    </tr>\n",
       "    <tr>\n",
       "      <th>2</th>\n",
       "      <td>00105258</td>\n",
       "      <td>1.0</td>\n",
       "    </tr>\n",
       "    <tr>\n",
       "      <th>3</th>\n",
       "      <td>00115b9f</td>\n",
       "      <td>1.0</td>\n",
       "    </tr>\n",
       "    <tr>\n",
       "      <th>4</th>\n",
       "      <td>0016bb22</td>\n",
       "      <td>0.0</td>\n",
       "    </tr>\n",
       "  </tbody>\n",
       "</table>\n",
       "</div>"
      ],
      "text/plain": [
       "         id  sii\n",
       "0  00008ff9  2.0\n",
       "1  000fd460  0.0\n",
       "2  00105258  1.0\n",
       "3  00115b9f  1.0\n",
       "4  0016bb22  0.0"
      ]
     },
     "execution_count": 14,
     "metadata": {},
     "output_type": "execute_result"
    }
   ],
   "source": [
    "# Prédiction sur le test set\n",
    "X_test_scaled = scaler.transform(X_test)\n",
    "y_test_pred = model.predict(X_test_scaled)\n",
    "\n",
    "# Création du fichier de soumission\n",
    "submission = pd.DataFrame({\n",
    "    \"id\": test[\"id\"],  \n",
    "    \"sii\": y_test_pred\n",
    "})\n",
    "\n",
    "# Sauvegarde en CSV\n",
    "submission.to_csv(\"../outputs/submission_baseline.csv\", index=False)\n",
    "\n",
    "print(\" Fichier de soumission généré !\")\n",
    "submission.head()\n"
   ]
  }
 ],
 "metadata": {
  "kernelspec": {
   "display_name": "Python 3",
   "language": "python",
   "name": "python3"
  },
  "language_info": {
   "codemirror_mode": {
    "name": "ipython",
    "version": 3
   },
   "file_extension": ".py",
   "mimetype": "text/x-python",
   "name": "python",
   "nbconvert_exporter": "python",
   "pygments_lexer": "ipython3",
   "version": "3.6.8"
  }
 },
 "nbformat": 4,
 "nbformat_minor": 5
}
