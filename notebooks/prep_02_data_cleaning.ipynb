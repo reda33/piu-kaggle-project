{
 "cells": [
  {
   "cell_type": "code",
   "execution_count": 8,
   "id": "descending-destruction",
   "metadata": {},
   "outputs": [],
   "source": [
    "import pandas as pd\n",
    "from sklearn.impute import SimpleImputer"
   ]
  },
  {
   "cell_type": "code",
   "execution_count": 5,
   "id": "passing-prophet",
   "metadata": {},
   "outputs": [],
   "source": [
    "# Chargement des données\n",
    "train = pd.read_csv(\"../data/train.csv\")\n",
    "test = pd.read_csv(\"../data/test.csv\")"
   ]
  },
  {
   "cell_type": "code",
   "execution_count": 6,
   "id": "rational-ethics",
   "metadata": {},
   "outputs": [
    {
     "name": "stdout",
     "output_type": "stream",
     "text": [
      "Colonnes communes utilisées : ['Basic_Demos-Age', 'Physical-BMI', 'PreInt_EduHx-computerinternet_hoursday', 'SDS-SDS_Total_T']\n"
     ]
    }
   ],
   "source": [
    "# Colonnes qu’on voulait utiliser à la base\n",
    "initial_features = [\n",
    "    'Basic_Demos-Age',\n",
    "    'Physical-BMI',\n",
    "    'PCIAT-PCIAT_Total',\n",
    "    'PreInt_EduHx-computerinternet_hoursday',\n",
    "    'SDS-SDS_Total_T'\n",
    "]\n",
    "\n",
    "# On ne garde que les colonnes disponibles dans les deux datasets\n",
    "common_features = [col for col in initial_features if col in test.columns]\n",
    "\n",
    "print(\"Colonnes communes utilisées :\", common_features)"
   ]
  },
  {
   "cell_type": "code",
   "execution_count": 7,
   "id": "instrumental-soviet",
   "metadata": {},
   "outputs": [
    {
     "name": "stdout",
     "output_type": "stream",
     "text": [
      "\n",
      "🔍 Valeurs manquantes dans X :\n",
      "Basic_Demos-Age                              0\n",
      "Physical-BMI                               938\n",
      "PreInt_EduHx-computerinternet_hoursday     659\n",
      "SDS-SDS_Total_T                           1354\n",
      "dtype: int64\n"
     ]
    }
   ],
   "source": [
    "# Création des datasets\n",
    "X = train[common_features]\n",
    "y = train['sii']\n",
    "X_test = test[common_features]\n",
    "\n",
    "# Vérification des NaN\n",
    "print(\"\\n🔍 Valeurs manquantes dans X :\")\n",
    "print(X.isnull().sum())"
   ]
  },
  {
   "cell_type": "code",
   "execution_count": 11,
   "id": "ongoing-tuesday",
   "metadata": {},
   "outputs": [
    {
     "name": "stdout",
     "output_type": "stream",
     "text": [
      "Données imputées – valeurs manquantes restantes :\n",
      "Basic_Demos-Age                           0\n",
      "Physical-BMI                              0\n",
      "PreInt_EduHx-computerinternet_hoursday    0\n",
      "SDS-SDS_Total_T                           0\n",
      "dtype: int64\n"
     ]
    }
   ],
   "source": [
    "# Imputeur avec stratégie \"median\"\n",
    "imputer = SimpleImputer(strategy=\"median\")\n",
    "\n",
    "# Appliquer sur X (train)\n",
    "X_imputed = pd.DataFrame(imputer.fit_transform(X), columns=X.columns)\n",
    "\n",
    "# Appliquer sur X_test avec les mêmes médianes\n",
    "X_test_imputed = pd.DataFrame(imputer.transform(X_test), columns=X_test.columns)\n",
    "\n",
    "# Vérification\n",
    "print(\"Données imputées – valeurs manquantes restantes :\")\n",
    "print(X_imputed.isnull().sum())\n"
   ]
  },
  {
   "cell_type": "markdown",
   "id": "corporate-origin",
   "metadata": {},
   "source": [
    "## Conclusion – Préparation des données\n",
    "\n",
    "Dans cette étape, on a préparé un jeu de données propre et directement exploitable pour l’entraînement du modèle :\n",
    "\n",
    "- On a gardé uniquement les colonnes **disponibles à la fois dans le train et le test**.\n",
    "- On a détecté et **remplacé les valeurs manquantes** avec la **médiane** de chaque colonne (méthode simple mais efficace).\n",
    "- On a maintenant deux tableaux bien propres :\n",
    "  - `X_imputed` pour entraîner le modèle\n",
    "  - `X_test_imputed` pour faire une prédiction plus tard\n",
    "\n",
    "Prochaine étape : passer à la modélisation de base avec un premier modèle simple.\n"
   ]
  },
  {
   "cell_type": "code",
   "execution_count": 12,
   "id": "encouraging-thomas",
   "metadata": {},
   "outputs": [
    {
     "name": "stdout",
     "output_type": "stream",
     "text": [
      "Données sauvegardées.\n"
     ]
    }
   ],
   "source": [
    "# 💾 Sauvegarde des datasets nettoyés\n",
    "X_imputed.to_csv(\"../data/X_imputed.csv\", index=False)\n",
    "X_test_imputed.to_csv(\"../data/X_test_imputed.csv\", index=False)\n",
    "y.to_csv(\"../data/y.csv\", index=False)\n",
    "\n",
    "print(\"Données sauvegardées.\")\n"
   ]
  }
 ],
 "metadata": {
  "kernelspec": {
   "display_name": "Python 3",
   "language": "python",
   "name": "python3"
  },
  "language_info": {
   "codemirror_mode": {
    "name": "ipython",
    "version": 3
   },
   "file_extension": ".py",
   "mimetype": "text/x-python",
   "name": "python",
   "nbconvert_exporter": "python",
   "pygments_lexer": "ipython3",
   "version": "3.6.8"
  }
 },
 "nbformat": 4,
 "nbformat_minor": 5
}
